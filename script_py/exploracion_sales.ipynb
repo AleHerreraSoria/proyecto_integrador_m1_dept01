{
 "cells": [
  {
   "cell_type": "code",
   "execution_count": 36,
   "id": "87178753",
   "metadata": {},
   "outputs": [
    {
     "data": {
      "text/html": [
       "<div>\n",
       "<style scoped>\n",
       "    .dataframe tbody tr th:only-of-type {\n",
       "        vertical-align: middle;\n",
       "    }\n",
       "\n",
       "    .dataframe tbody tr th {\n",
       "        vertical-align: top;\n",
       "    }\n",
       "\n",
       "    .dataframe thead th {\n",
       "        text-align: right;\n",
       "    }\n",
       "</style>\n",
       "<table border=\"1\" class=\"dataframe\">\n",
       "  <thead>\n",
       "    <tr style=\"text-align: right;\">\n",
       "      <th></th>\n",
       "      <th>SalesID</th>\n",
       "      <th>SalesPersonID</th>\n",
       "      <th>CustomerID</th>\n",
       "      <th>ProductID</th>\n",
       "      <th>Quantity</th>\n",
       "      <th>Discount</th>\n",
       "      <th>TotalPrice</th>\n",
       "      <th>SalesDate</th>\n",
       "      <th>TransactionNumber</th>\n",
       "    </tr>\n",
       "  </thead>\n",
       "  <tbody>\n",
       "    <tr>\n",
       "      <th>0</th>\n",
       "      <td>1</td>\n",
       "      <td>6</td>\n",
       "      <td>27039</td>\n",
       "      <td>381</td>\n",
       "      <td>7</td>\n",
       "      <td>0.0</td>\n",
       "      <td>0.0</td>\n",
       "      <td>2018-02-05 07:38:25.430</td>\n",
       "      <td>FQL4S94E4ME1EZFTG42G</td>\n",
       "    </tr>\n",
       "    <tr>\n",
       "      <th>1</th>\n",
       "      <td>2</td>\n",
       "      <td>16</td>\n",
       "      <td>25011</td>\n",
       "      <td>61</td>\n",
       "      <td>7</td>\n",
       "      <td>0.0</td>\n",
       "      <td>0.0</td>\n",
       "      <td>2018-02-02 16:03:31.150</td>\n",
       "      <td>12UGLX40DJ1A5DTFBHB8</td>\n",
       "    </tr>\n",
       "    <tr>\n",
       "      <th>2</th>\n",
       "      <td>3</td>\n",
       "      <td>13</td>\n",
       "      <td>94024</td>\n",
       "      <td>23</td>\n",
       "      <td>24</td>\n",
       "      <td>0.0</td>\n",
       "      <td>0.0</td>\n",
       "      <td>2018-05-03 19:31:56.880</td>\n",
       "      <td>5DT8RCPL87KI5EORO7B0</td>\n",
       "    </tr>\n",
       "    <tr>\n",
       "      <th>3</th>\n",
       "      <td>4</td>\n",
       "      <td>8</td>\n",
       "      <td>73966</td>\n",
       "      <td>176</td>\n",
       "      <td>19</td>\n",
       "      <td>0.2</td>\n",
       "      <td>0.0</td>\n",
       "      <td>2018-04-07 14:43:55.420</td>\n",
       "      <td>R3DR9MLD5NR76VO17ULE</td>\n",
       "    </tr>\n",
       "    <tr>\n",
       "      <th>4</th>\n",
       "      <td>5</td>\n",
       "      <td>10</td>\n",
       "      <td>32653</td>\n",
       "      <td>310</td>\n",
       "      <td>9</td>\n",
       "      <td>0.0</td>\n",
       "      <td>0.0</td>\n",
       "      <td>2018-02-12 15:37:03.940</td>\n",
       "      <td>4BGS0Z5OMAZ8NDAFHHP3</td>\n",
       "    </tr>\n",
       "  </tbody>\n",
       "</table>\n",
       "</div>"
      ],
      "text/plain": [
       "   SalesID  SalesPersonID  CustomerID  ProductID  Quantity  Discount  \\\n",
       "0        1              6       27039        381         7       0.0   \n",
       "1        2             16       25011         61         7       0.0   \n",
       "2        3             13       94024         23        24       0.0   \n",
       "3        4              8       73966        176        19       0.2   \n",
       "4        5             10       32653        310         9       0.0   \n",
       "\n",
       "   TotalPrice                SalesDate     TransactionNumber  \n",
       "0         0.0  2018-02-05 07:38:25.430  FQL4S94E4ME1EZFTG42G  \n",
       "1         0.0  2018-02-02 16:03:31.150  12UGLX40DJ1A5DTFBHB8  \n",
       "2         0.0  2018-05-03 19:31:56.880  5DT8RCPL87KI5EORO7B0  \n",
       "3         0.0  2018-04-07 14:43:55.420  R3DR9MLD5NR76VO17ULE  \n",
       "4         0.0  2018-02-12 15:37:03.940  4BGS0Z5OMAZ8NDAFHHP3  "
      ]
     },
     "execution_count": 36,
     "metadata": {},
     "output_type": "execute_result"
    }
   ],
   "source": [
    "import pandas as pd\n",
    "\n",
    "# Cargar el archivo CSV\n",
    "df = pd.read_csv(\"D:\\\\SoyHenry\\\\Proyecto integrador\\\\data\\\\sales.csv\")  # Usamos \"\\\\\" para evitar problemas de escape en la ruta\n",
    "\n",
    "# Vista previa\n",
    "df.head()"
   ]
  },
  {
   "cell_type": "code",
   "execution_count": 37,
   "id": "798edfc0",
   "metadata": {},
   "outputs": [
    {
     "data": {
      "text/plain": [
       "Index(['SalesID', 'SalesPersonID', 'CustomerID', 'ProductID', 'Quantity',\n",
       "       'Discount', 'TotalPrice', 'SalesDate', 'TransactionNumber'],\n",
       "      dtype='object')"
      ]
     },
     "execution_count": 37,
     "metadata": {},
     "output_type": "execute_result"
    }
   ],
   "source": [
    "# Visualizamos las columnas del DataFrame\n",
    "df.columns"
   ]
  },
  {
   "cell_type": "code",
   "execution_count": 38,
   "id": "a09d5e5d",
   "metadata": {},
   "outputs": [
    {
     "name": "stdout",
     "output_type": "stream",
     "text": [
      "<class 'pandas.core.frame.DataFrame'>\n",
      "RangeIndex: 6758125 entries, 0 to 6758124\n",
      "Data columns (total 9 columns):\n",
      " #   Column             Dtype  \n",
      "---  ------             -----  \n",
      " 0   SalesID            int64  \n",
      " 1   SalesPersonID      int64  \n",
      " 2   CustomerID         int64  \n",
      " 3   ProductID          int64  \n",
      " 4   Quantity           int64  \n",
      " 5   Discount           float64\n",
      " 6   TotalPrice         float64\n",
      " 7   SalesDate          object \n",
      " 8   TransactionNumber  object \n",
      "dtypes: float64(2), int64(5), object(2)\n",
      "memory usage: 464.0+ MB\n"
     ]
    }
   ],
   "source": [
    "# Información general del DataFrame\n",
    "df.info()"
   ]
  },
  {
   "cell_type": "code",
   "execution_count": 39,
   "id": "de8923fc",
   "metadata": {},
   "outputs": [
    {
     "data": {
      "text/plain": [
       "SalesID                  0\n",
       "SalesPersonID            0\n",
       "CustomerID               0\n",
       "ProductID                0\n",
       "Quantity                 0\n",
       "Discount                 0\n",
       "TotalPrice               0\n",
       "SalesDate            67526\n",
       "TransactionNumber        0\n",
       "dtype: int64"
      ]
     },
     "execution_count": 39,
     "metadata": {},
     "output_type": "execute_result"
    }
   ],
   "source": [
    "# Verificacion de filas con valores nulos en las columnas\n",
    "df.isnull().sum() "
   ]
  },
  {
   "cell_type": "code",
   "execution_count": 40,
   "id": "50acabca",
   "metadata": {},
   "outputs": [
    {
     "data": {
      "text/html": [
       "<div>\n",
       "<style scoped>\n",
       "    .dataframe tbody tr th:only-of-type {\n",
       "        vertical-align: middle;\n",
       "    }\n",
       "\n",
       "    .dataframe tbody tr th {\n",
       "        vertical-align: top;\n",
       "    }\n",
       "\n",
       "    .dataframe thead th {\n",
       "        text-align: right;\n",
       "    }\n",
       "</style>\n",
       "<table border=\"1\" class=\"dataframe\">\n",
       "  <thead>\n",
       "    <tr style=\"text-align: right;\">\n",
       "      <th></th>\n",
       "      <th>SalesID</th>\n",
       "      <th>SalesPersonID</th>\n",
       "      <th>CustomerID</th>\n",
       "      <th>ProductID</th>\n",
       "      <th>Quantity</th>\n",
       "      <th>Discount</th>\n",
       "      <th>TotalPrice</th>\n",
       "      <th>SalesDate</th>\n",
       "      <th>TransactionNumber</th>\n",
       "    </tr>\n",
       "  </thead>\n",
       "  <tbody>\n",
       "    <tr>\n",
       "      <th>0</th>\n",
       "      <td>1</td>\n",
       "      <td>6</td>\n",
       "      <td>27039</td>\n",
       "      <td>381</td>\n",
       "      <td>7</td>\n",
       "      <td>0.0</td>\n",
       "      <td>0.0</td>\n",
       "      <td>2018-02-05 07:38:25.430</td>\n",
       "      <td>FQL4S94E4ME1EZFTG42G</td>\n",
       "    </tr>\n",
       "    <tr>\n",
       "      <th>1</th>\n",
       "      <td>2</td>\n",
       "      <td>16</td>\n",
       "      <td>25011</td>\n",
       "      <td>61</td>\n",
       "      <td>7</td>\n",
       "      <td>0.0</td>\n",
       "      <td>0.0</td>\n",
       "      <td>2018-02-02 16:03:31.150</td>\n",
       "      <td>12UGLX40DJ1A5DTFBHB8</td>\n",
       "    </tr>\n",
       "    <tr>\n",
       "      <th>2</th>\n",
       "      <td>3</td>\n",
       "      <td>13</td>\n",
       "      <td>94024</td>\n",
       "      <td>23</td>\n",
       "      <td>24</td>\n",
       "      <td>0.0</td>\n",
       "      <td>0.0</td>\n",
       "      <td>2018-05-03 19:31:56.880</td>\n",
       "      <td>5DT8RCPL87KI5EORO7B0</td>\n",
       "    </tr>\n",
       "    <tr>\n",
       "      <th>3</th>\n",
       "      <td>4</td>\n",
       "      <td>8</td>\n",
       "      <td>73966</td>\n",
       "      <td>176</td>\n",
       "      <td>19</td>\n",
       "      <td>0.2</td>\n",
       "      <td>0.0</td>\n",
       "      <td>2018-04-07 14:43:55.420</td>\n",
       "      <td>R3DR9MLD5NR76VO17ULE</td>\n",
       "    </tr>\n",
       "    <tr>\n",
       "      <th>4</th>\n",
       "      <td>5</td>\n",
       "      <td>10</td>\n",
       "      <td>32653</td>\n",
       "      <td>310</td>\n",
       "      <td>9</td>\n",
       "      <td>0.0</td>\n",
       "      <td>0.0</td>\n",
       "      <td>2018-02-12 15:37:03.940</td>\n",
       "      <td>4BGS0Z5OMAZ8NDAFHHP3</td>\n",
       "    </tr>\n",
       "  </tbody>\n",
       "</table>\n",
       "</div>"
      ],
      "text/plain": [
       "   SalesID  SalesPersonID  CustomerID  ProductID  Quantity  Discount  \\\n",
       "0        1              6       27039        381         7       0.0   \n",
       "1        2             16       25011         61         7       0.0   \n",
       "2        3             13       94024         23        24       0.0   \n",
       "3        4              8       73966        176        19       0.2   \n",
       "4        5             10       32653        310         9       0.0   \n",
       "\n",
       "   TotalPrice                SalesDate     TransactionNumber  \n",
       "0         0.0  2018-02-05 07:38:25.430  FQL4S94E4ME1EZFTG42G  \n",
       "1         0.0  2018-02-02 16:03:31.150  12UGLX40DJ1A5DTFBHB8  \n",
       "2         0.0  2018-05-03 19:31:56.880  5DT8RCPL87KI5EORO7B0  \n",
       "3         0.0  2018-04-07 14:43:55.420  R3DR9MLD5NR76VO17ULE  \n",
       "4         0.0  2018-02-12 15:37:03.940  4BGS0Z5OMAZ8NDAFHHP3  "
      ]
     },
     "execution_count": 40,
     "metadata": {},
     "output_type": "execute_result"
    }
   ],
   "source": [
    "# Visualización de las primeras filas del DataFrame\n",
    "pd.set_option('display.max_columns', None)\n",
    "df.head()"
   ]
  },
  {
   "cell_type": "code",
   "execution_count": 41,
   "id": "1b8cd2cf",
   "metadata": {},
   "outputs": [
    {
     "data": {
      "text/html": [
       "<div>\n",
       "<style scoped>\n",
       "    .dataframe tbody tr th:only-of-type {\n",
       "        vertical-align: middle;\n",
       "    }\n",
       "\n",
       "    .dataframe tbody tr th {\n",
       "        vertical-align: top;\n",
       "    }\n",
       "\n",
       "    .dataframe thead th {\n",
       "        text-align: right;\n",
       "    }\n",
       "</style>\n",
       "<table border=\"1\" class=\"dataframe\">\n",
       "  <thead>\n",
       "    <tr style=\"text-align: right;\">\n",
       "      <th></th>\n",
       "      <th>SalesID</th>\n",
       "      <th>SalesPersonID</th>\n",
       "      <th>CustomerID</th>\n",
       "      <th>ProductID</th>\n",
       "      <th>Quantity</th>\n",
       "      <th>Discount</th>\n",
       "      <th>TotalPrice</th>\n",
       "      <th>SalesDate</th>\n",
       "      <th>TransactionNumber</th>\n",
       "    </tr>\n",
       "  </thead>\n",
       "  <tbody>\n",
       "    <tr>\n",
       "      <th>50</th>\n",
       "      <td>51</td>\n",
       "      <td>21</td>\n",
       "      <td>12478</td>\n",
       "      <td>215</td>\n",
       "      <td>4</td>\n",
       "      <td>0.2</td>\n",
       "      <td>0.0</td>\n",
       "      <td>NaN</td>\n",
       "      <td>H8B08JBXS1TOWBJH3XMS</td>\n",
       "    </tr>\n",
       "    <tr>\n",
       "      <th>227</th>\n",
       "      <td>228</td>\n",
       "      <td>18</td>\n",
       "      <td>70321</td>\n",
       "      <td>74</td>\n",
       "      <td>18</td>\n",
       "      <td>0.0</td>\n",
       "      <td>0.0</td>\n",
       "      <td>NaN</td>\n",
       "      <td>SJ5VWMCZHIC2XBUEHEZJ</td>\n",
       "    </tr>\n",
       "    <tr>\n",
       "      <th>295</th>\n",
       "      <td>296</td>\n",
       "      <td>21</td>\n",
       "      <td>71322</td>\n",
       "      <td>219</td>\n",
       "      <td>19</td>\n",
       "      <td>0.0</td>\n",
       "      <td>0.0</td>\n",
       "      <td>NaN</td>\n",
       "      <td>8IXG8EPHL6LSLY3264G9</td>\n",
       "    </tr>\n",
       "    <tr>\n",
       "      <th>347</th>\n",
       "      <td>348</td>\n",
       "      <td>9</td>\n",
       "      <td>92737</td>\n",
       "      <td>352</td>\n",
       "      <td>24</td>\n",
       "      <td>0.0</td>\n",
       "      <td>0.0</td>\n",
       "      <td>NaN</td>\n",
       "      <td>HXGMYR6J7HWJUOTKB19Q</td>\n",
       "    </tr>\n",
       "    <tr>\n",
       "      <th>355</th>\n",
       "      <td>356</td>\n",
       "      <td>18</td>\n",
       "      <td>48857</td>\n",
       "      <td>278</td>\n",
       "      <td>13</td>\n",
       "      <td>0.0</td>\n",
       "      <td>0.0</td>\n",
       "      <td>NaN</td>\n",
       "      <td>0KLH8NGRQAGYRCVM4IF8</td>\n",
       "    </tr>\n",
       "    <tr>\n",
       "      <th>362</th>\n",
       "      <td>363</td>\n",
       "      <td>18</td>\n",
       "      <td>77154</td>\n",
       "      <td>133</td>\n",
       "      <td>20</td>\n",
       "      <td>0.1</td>\n",
       "      <td>0.0</td>\n",
       "      <td>NaN</td>\n",
       "      <td>FQUXHKQGNRYKRCU50IWY</td>\n",
       "    </tr>\n",
       "    <tr>\n",
       "      <th>480</th>\n",
       "      <td>481</td>\n",
       "      <td>1</td>\n",
       "      <td>43991</td>\n",
       "      <td>23</td>\n",
       "      <td>12</td>\n",
       "      <td>0.2</td>\n",
       "      <td>0.0</td>\n",
       "      <td>NaN</td>\n",
       "      <td>R8H5HEWDNSXXGYQ9XL3H</td>\n",
       "    </tr>\n",
       "    <tr>\n",
       "      <th>502</th>\n",
       "      <td>503</td>\n",
       "      <td>23</td>\n",
       "      <td>27217</td>\n",
       "      <td>331</td>\n",
       "      <td>7</td>\n",
       "      <td>0.0</td>\n",
       "      <td>0.0</td>\n",
       "      <td>NaN</td>\n",
       "      <td>6G0DTZL5Y4NAP1GNAUG8</td>\n",
       "    </tr>\n",
       "    <tr>\n",
       "      <th>578</th>\n",
       "      <td>579</td>\n",
       "      <td>23</td>\n",
       "      <td>54690</td>\n",
       "      <td>415</td>\n",
       "      <td>14</td>\n",
       "      <td>0.0</td>\n",
       "      <td>0.0</td>\n",
       "      <td>NaN</td>\n",
       "      <td>C5CJL7I4JMNKHG2X557Q</td>\n",
       "    </tr>\n",
       "    <tr>\n",
       "      <th>692</th>\n",
       "      <td>693</td>\n",
       "      <td>1</td>\n",
       "      <td>86443</td>\n",
       "      <td>308</td>\n",
       "      <td>22</td>\n",
       "      <td>0.0</td>\n",
       "      <td>0.0</td>\n",
       "      <td>NaN</td>\n",
       "      <td>4IZML962H01TJ42Q3GK3</td>\n",
       "    </tr>\n",
       "  </tbody>\n",
       "</table>\n",
       "</div>"
      ],
      "text/plain": [
       "     SalesID  SalesPersonID  CustomerID  ProductID  Quantity  Discount  \\\n",
       "50        51             21       12478        215         4       0.2   \n",
       "227      228             18       70321         74        18       0.0   \n",
       "295      296             21       71322        219        19       0.0   \n",
       "347      348              9       92737        352        24       0.0   \n",
       "355      356             18       48857        278        13       0.0   \n",
       "362      363             18       77154        133        20       0.1   \n",
       "480      481              1       43991         23        12       0.2   \n",
       "502      503             23       27217        331         7       0.0   \n",
       "578      579             23       54690        415        14       0.0   \n",
       "692      693              1       86443        308        22       0.0   \n",
       "\n",
       "     TotalPrice SalesDate     TransactionNumber  \n",
       "50          0.0       NaN  H8B08JBXS1TOWBJH3XMS  \n",
       "227         0.0       NaN  SJ5VWMCZHIC2XBUEHEZJ  \n",
       "295         0.0       NaN  8IXG8EPHL6LSLY3264G9  \n",
       "347         0.0       NaN  HXGMYR6J7HWJUOTKB19Q  \n",
       "355         0.0       NaN  0KLH8NGRQAGYRCVM4IF8  \n",
       "362         0.0       NaN  FQUXHKQGNRYKRCU50IWY  \n",
       "480         0.0       NaN  R8H5HEWDNSXXGYQ9XL3H  \n",
       "502         0.0       NaN  6G0DTZL5Y4NAP1GNAUG8  \n",
       "578         0.0       NaN  C5CJL7I4JMNKHG2X557Q  \n",
       "692         0.0       NaN  4IZML962H01TJ42Q3GK3  "
      ]
     },
     "execution_count": 41,
     "metadata": {},
     "output_type": "execute_result"
    }
   ],
   "source": [
    "df[df['SalesDate'].isnull()].head(10) # - Explorar los registros sin SalesDate: vemos si hay algún patrón o si parecen errores sistemáticos.\n"
   ]
  },
  {
   "cell_type": "code",
   "execution_count": null,
   "id": "d91023e2",
   "metadata": {},
   "outputs": [],
   "source": [
    "# Intentar convertir a el dtype de SalesDate a datetime\n",
    "df['SalesDate'] = pd.to_datetime(df['SalesDate'], errors='coerce')"
   ]
  },
  {
   "cell_type": "code",
   "execution_count": 43,
   "id": "e41b874e",
   "metadata": {},
   "outputs": [
    {
     "data": {
      "text/plain": [
       "67526"
      ]
     },
     "execution_count": 43,
     "metadata": {},
     "output_type": "execute_result"
    }
   ],
   "source": [
    "df['SalesDate'].isnull().sum()"
   ]
  },
  {
   "cell_type": "code",
   "execution_count": 44,
   "id": "4955c854",
   "metadata": {},
   "outputs": [
    {
     "data": {
      "text/html": [
       "<div>\n",
       "<style scoped>\n",
       "    .dataframe tbody tr th:only-of-type {\n",
       "        vertical-align: middle;\n",
       "    }\n",
       "\n",
       "    .dataframe tbody tr th {\n",
       "        vertical-align: top;\n",
       "    }\n",
       "\n",
       "    .dataframe thead th {\n",
       "        text-align: right;\n",
       "    }\n",
       "</style>\n",
       "<table border=\"1\" class=\"dataframe\">\n",
       "  <thead>\n",
       "    <tr style=\"text-align: right;\">\n",
       "      <th></th>\n",
       "      <th>SalesID</th>\n",
       "      <th>SalesPersonID</th>\n",
       "      <th>CustomerID</th>\n",
       "      <th>ProductID</th>\n",
       "      <th>Quantity</th>\n",
       "      <th>Discount</th>\n",
       "      <th>TotalPrice</th>\n",
       "      <th>SalesDate</th>\n",
       "      <th>TransactionNumber</th>\n",
       "    </tr>\n",
       "  </thead>\n",
       "  <tbody>\n",
       "    <tr>\n",
       "      <th>50</th>\n",
       "      <td>51</td>\n",
       "      <td>21</td>\n",
       "      <td>12478</td>\n",
       "      <td>215</td>\n",
       "      <td>4</td>\n",
       "      <td>0.2</td>\n",
       "      <td>0.0</td>\n",
       "      <td>NaT</td>\n",
       "      <td>H8B08JBXS1TOWBJH3XMS</td>\n",
       "    </tr>\n",
       "    <tr>\n",
       "      <th>227</th>\n",
       "      <td>228</td>\n",
       "      <td>18</td>\n",
       "      <td>70321</td>\n",
       "      <td>74</td>\n",
       "      <td>18</td>\n",
       "      <td>0.0</td>\n",
       "      <td>0.0</td>\n",
       "      <td>NaT</td>\n",
       "      <td>SJ5VWMCZHIC2XBUEHEZJ</td>\n",
       "    </tr>\n",
       "    <tr>\n",
       "      <th>295</th>\n",
       "      <td>296</td>\n",
       "      <td>21</td>\n",
       "      <td>71322</td>\n",
       "      <td>219</td>\n",
       "      <td>19</td>\n",
       "      <td>0.0</td>\n",
       "      <td>0.0</td>\n",
       "      <td>NaT</td>\n",
       "      <td>8IXG8EPHL6LSLY3264G9</td>\n",
       "    </tr>\n",
       "    <tr>\n",
       "      <th>347</th>\n",
       "      <td>348</td>\n",
       "      <td>9</td>\n",
       "      <td>92737</td>\n",
       "      <td>352</td>\n",
       "      <td>24</td>\n",
       "      <td>0.0</td>\n",
       "      <td>0.0</td>\n",
       "      <td>NaT</td>\n",
       "      <td>HXGMYR6J7HWJUOTKB19Q</td>\n",
       "    </tr>\n",
       "    <tr>\n",
       "      <th>355</th>\n",
       "      <td>356</td>\n",
       "      <td>18</td>\n",
       "      <td>48857</td>\n",
       "      <td>278</td>\n",
       "      <td>13</td>\n",
       "      <td>0.0</td>\n",
       "      <td>0.0</td>\n",
       "      <td>NaT</td>\n",
       "      <td>0KLH8NGRQAGYRCVM4IF8</td>\n",
       "    </tr>\n",
       "  </tbody>\n",
       "</table>\n",
       "</div>"
      ],
      "text/plain": [
       "     SalesID  SalesPersonID  CustomerID  ProductID  Quantity  Discount  \\\n",
       "50        51             21       12478        215         4       0.2   \n",
       "227      228             18       70321         74        18       0.0   \n",
       "295      296             21       71322        219        19       0.0   \n",
       "347      348              9       92737        352        24       0.0   \n",
       "355      356             18       48857        278        13       0.0   \n",
       "\n",
       "     TotalPrice SalesDate     TransactionNumber  \n",
       "50          0.0       NaT  H8B08JBXS1TOWBJH3XMS  \n",
       "227         0.0       NaT  SJ5VWMCZHIC2XBUEHEZJ  \n",
       "295         0.0       NaT  8IXG8EPHL6LSLY3264G9  \n",
       "347         0.0       NaT  HXGMYR6J7HWJUOTKB19Q  \n",
       "355         0.0       NaT  0KLH8NGRQAGYRCVM4IF8  "
      ]
     },
     "execution_count": 44,
     "metadata": {},
     "output_type": "execute_result"
    }
   ],
   "source": [
    "df[df['SalesDate'].isnull()].head()"
   ]
  },
  {
   "cell_type": "code",
   "execution_count": null,
   "id": "bf867ca6",
   "metadata": {},
   "outputs": [
    {
     "data": {
      "text/plain": [
       "SalesID                       int64\n",
       "SalesPersonID                 int64\n",
       "CustomerID                    int64\n",
       "ProductID                     int64\n",
       "Quantity                      int64\n",
       "Discount                    float64\n",
       "TotalPrice                  float64\n",
       "SalesDate            datetime64[ns]\n",
       "TransactionNumber            object\n",
       "dtype: object"
      ]
     },
     "execution_count": 45,
     "metadata": {},
     "output_type": "execute_result"
    }
   ],
   "source": [
    "# Verificamos nuevamente los tipos de datos de las columnas\n",
    "df.dtypes"
   ]
  },
  {
   "cell_type": "code",
   "execution_count": 46,
   "id": "63fb3a62",
   "metadata": {},
   "outputs": [
    {
     "name": "stdout",
     "output_type": "stream",
     "text": [
      "<class 'pandas.core.frame.DataFrame'>\n",
      "RangeIndex: 6758125 entries, 0 to 6758124\n",
      "Data columns (total 9 columns):\n",
      " #   Column             Dtype         \n",
      "---  ------             -----         \n",
      " 0   SalesID            int64         \n",
      " 1   SalesPersonID      int64         \n",
      " 2   CustomerID         int64         \n",
      " 3   ProductID          int64         \n",
      " 4   Quantity           int64         \n",
      " 5   Discount           float64       \n",
      " 6   TotalPrice         float64       \n",
      " 7   SalesDate          datetime64[ns]\n",
      " 8   TransactionNumber  object        \n",
      "dtypes: datetime64[ns](1), float64(2), int64(5), object(1)\n",
      "memory usage: 464.0+ MB\n"
     ]
    }
   ],
   "source": [
    "df.info()"
   ]
  },
  {
   "cell_type": "markdown",
   "id": "708bbd0c",
   "metadata": {},
   "source": [
    "### Jugamos con el df a ver que otras cosas podemos averiguar"
   ]
  },
  {
   "cell_type": "code",
   "execution_count": null,
   "id": "d8b3ee93",
   "metadata": {},
   "outputs": [
    {
     "data": {
      "text/plain": [
       "0"
      ]
     },
     "execution_count": 47,
     "metadata": {},
     "output_type": "execute_result"
    }
   ],
   "source": [
    "# Verificar si hay filas duplicadas\n",
    "df.duplicated().sum()"
   ]
  },
  {
   "cell_type": "code",
   "execution_count": 65,
   "id": "d2ed88db",
   "metadata": {},
   "outputs": [
    {
     "data": {
      "text/plain": [
       "SalesPersonID\n",
       "1     293394\n",
       "2     293737\n",
       "3     293175\n",
       "4     294744\n",
       "5     293711\n",
       "6     293973\n",
       "7     293967\n",
       "8     294449\n",
       "9     294180\n",
       "10    293888\n",
       "11    294110\n",
       "12    293164\n",
       "13    293530\n",
       "14    294035\n",
       "15    294096\n",
       "16    293685\n",
       "17    292521\n",
       "18    294419\n",
       "19    293875\n",
       "20    293562\n",
       "21    294983\n",
       "22    293224\n",
       "23    293703\n",
       "Name: count, dtype: int64"
      ]
     },
     "execution_count": 65,
     "metadata": {},
     "output_type": "execute_result"
    }
   ],
   "source": [
    "# Verificamos las veces que aparece cada ID, incluyendo los NaN. Las ordenamos por el índice, que en este caso es el número de SalesPersonID.\n",
    "df['SalesPersonID'].value_counts(dropna=False).sort_index()\n"
   ]
  },
  {
   "cell_type": "code",
   "execution_count": 49,
   "id": "6b764d16",
   "metadata": {},
   "outputs": [
    {
     "data": {
      "text/plain": [
       "98759"
      ]
     },
     "execution_count": 49,
     "metadata": {},
     "output_type": "execute_result"
    }
   ],
   "source": [
    "df['CustomerID'].nunique()"
   ]
  },
  {
   "cell_type": "code",
   "execution_count": 51,
   "id": "c311a9f5",
   "metadata": {},
   "outputs": [],
   "source": [
    "sin_fecha = df[df['SalesDate'].isnull()]"
   ]
  },
  {
   "cell_type": "code",
   "execution_count": 52,
   "id": "5ff16b38",
   "metadata": {},
   "outputs": [
    {
     "name": "stdout",
     "output_type": "stream",
     "text": [
      "(67526, 9)\n"
     ]
    }
   ],
   "source": [
    "print(sin_fecha.shape)  # Verificar cuántas filas no tienen fecha"
   ]
  },
  {
   "cell_type": "code",
   "execution_count": 53,
   "id": "a8f7d5e1",
   "metadata": {},
   "outputs": [
    {
     "data": {
      "text/plain": [
       "0.999182465550726"
      ]
     },
     "execution_count": 53,
     "metadata": {},
     "output_type": "execute_result"
    }
   ],
   "source": [
    "67526 / df.shape[0] * 100"
   ]
  },
  {
   "cell_type": "code",
   "execution_count": 54,
   "id": "90e069a7",
   "metadata": {},
   "outputs": [
    {
     "data": {
      "text/plain": [
       "ProductID     0\n",
       "Quantity      0\n",
       "TotalPrice    0\n",
       "dtype: int64"
      ]
     },
     "execution_count": 54,
     "metadata": {},
     "output_type": "execute_result"
    }
   ],
   "source": [
    "sin_fecha[['ProductID', 'Quantity', 'TotalPrice']].isnull().sum()"
   ]
  },
  {
   "cell_type": "code",
   "execution_count": 55,
   "id": "d3f307fd",
   "metadata": {},
   "outputs": [
    {
     "data": {
      "text/html": [
       "<div>\n",
       "<style scoped>\n",
       "    .dataframe tbody tr th:only-of-type {\n",
       "        vertical-align: middle;\n",
       "    }\n",
       "\n",
       "    .dataframe tbody tr th {\n",
       "        vertical-align: top;\n",
       "    }\n",
       "\n",
       "    .dataframe thead th {\n",
       "        text-align: right;\n",
       "    }\n",
       "</style>\n",
       "<table border=\"1\" class=\"dataframe\">\n",
       "  <thead>\n",
       "    <tr style=\"text-align: right;\">\n",
       "      <th></th>\n",
       "      <th>Quantity</th>\n",
       "      <th>TotalPrice</th>\n",
       "    </tr>\n",
       "  </thead>\n",
       "  <tbody>\n",
       "    <tr>\n",
       "      <th>count</th>\n",
       "      <td>67526.000000</td>\n",
       "      <td>67526.0</td>\n",
       "    </tr>\n",
       "    <tr>\n",
       "      <th>mean</th>\n",
       "      <td>13.019592</td>\n",
       "      <td>0.0</td>\n",
       "    </tr>\n",
       "    <tr>\n",
       "      <th>std</th>\n",
       "      <td>7.181422</td>\n",
       "      <td>0.0</td>\n",
       "    </tr>\n",
       "    <tr>\n",
       "      <th>min</th>\n",
       "      <td>1.000000</td>\n",
       "      <td>0.0</td>\n",
       "    </tr>\n",
       "    <tr>\n",
       "      <th>25%</th>\n",
       "      <td>7.000000</td>\n",
       "      <td>0.0</td>\n",
       "    </tr>\n",
       "    <tr>\n",
       "      <th>50%</th>\n",
       "      <td>13.000000</td>\n",
       "      <td>0.0</td>\n",
       "    </tr>\n",
       "    <tr>\n",
       "      <th>75%</th>\n",
       "      <td>19.000000</td>\n",
       "      <td>0.0</td>\n",
       "    </tr>\n",
       "    <tr>\n",
       "      <th>max</th>\n",
       "      <td>25.000000</td>\n",
       "      <td>0.0</td>\n",
       "    </tr>\n",
       "  </tbody>\n",
       "</table>\n",
       "</div>"
      ],
      "text/plain": [
       "           Quantity  TotalPrice\n",
       "count  67526.000000     67526.0\n",
       "mean      13.019592         0.0\n",
       "std        7.181422         0.0\n",
       "min        1.000000         0.0\n",
       "25%        7.000000         0.0\n",
       "50%       13.000000         0.0\n",
       "75%       19.000000         0.0\n",
       "max       25.000000         0.0"
      ]
     },
     "execution_count": 55,
     "metadata": {},
     "output_type": "execute_result"
    }
   ],
   "source": [
    "sin_fecha[['Quantity', 'TotalPrice']].describe()"
   ]
  },
  {
   "cell_type": "code",
   "execution_count": null,
   "id": "eb63c74c",
   "metadata": {},
   "outputs": [
    {
     "data": {
      "text/plain": [
       "ProductID\n",
       "162    183\n",
       "264    181\n",
       "22     181\n",
       "93     180\n",
       "333    179\n",
       "192    179\n",
       "374    178\n",
       "166    176\n",
       "285    175\n",
       "251    175\n",
       "Name: count, dtype: int64"
      ]
     },
     "execution_count": 56,
     "metadata": {},
     "output_type": "execute_result"
    }
   ],
   "source": [
    "# ¿Son ventas de productos reales? Revisamos si todas las ProductID existen en la tabla de products. Ver las más frecuentes:\n",
    "sin_fecha['ProductID'].value_counts().head(10)"
   ]
  },
  {
   "cell_type": "code",
   "execution_count": null,
   "id": "de86a8c8",
   "metadata": {},
   "outputs": [
    {
     "data": {
      "text/plain": [
       "SalesPersonID\n",
       "1     2916\n",
       "2     3015\n",
       "3     2834\n",
       "4     2977\n",
       "5     2982\n",
       "6     2911\n",
       "7     2930\n",
       "8     2904\n",
       "9     2924\n",
       "10    2845\n",
       "11    2879\n",
       "12    2916\n",
       "13    2897\n",
       "14    3099\n",
       "15    3024\n",
       "16    2992\n",
       "17    3029\n",
       "18    2792\n",
       "19    2999\n",
       "20    2893\n",
       "21    2959\n",
       "22    2963\n",
       "23    2846\n",
       "Name: count, dtype: int64"
      ]
     },
     "execution_count": 68,
     "metadata": {},
     "output_type": "execute_result"
    }
   ],
   "source": [
    "# ¿Están asociadas a vendedores específicos? A veces los datos incompletos provienen de una fuente en particular. Revisamos los IDs de vendedor más frecuentes.\n",
    "sin_fecha['SalesPersonID'].value_counts().head(24).sort_index()"
   ]
  },
  {
   "cell_type": "code",
   "execution_count": null,
   "id": "3fff7d0c",
   "metadata": {},
   "outputs": [
    {
     "data": {
      "text/plain": [
       "count                    67526\n",
       "unique                   67526\n",
       "top       H8B08JBXS1TOWBJH3XMS\n",
       "freq                         1\n",
       "Name: TransactionNumber, dtype: object"
      ]
     },
     "execution_count": 60,
     "metadata": {},
     "output_type": "execute_result"
    }
   ],
   "source": [
    "# ¿Qué rango de TransactionNumber tienen? Esto nos puede decir si son viejas o recientes.\n",
    "sin_fecha['TransactionNumber'].describe()"
   ]
  },
  {
   "cell_type": "code",
   "execution_count": null,
   "id": "58a02e89",
   "metadata": {},
   "outputs": [
    {
     "data": {
      "text/plain": [
       "count                  6690599\n",
       "unique                 6690599\n",
       "top       FQL4S94E4ME1EZFTG42G\n",
       "freq                         1\n",
       "Name: TransactionNumber, dtype: object"
      ]
     },
     "execution_count": 61,
     "metadata": {},
     "output_type": "execute_result"
    }
   ],
   "source": [
    "# Las comparamos con ventas que sí tienen fecha:\n",
    "con_fecha = df[df['SalesDate'].notnull()]\n",
    "con_fecha['TransactionNumber'].describe()"
   ]
  },
  {
   "cell_type": "code",
   "execution_count": null,
   "id": "b6916daa",
   "metadata": {},
   "outputs": [],
   "source": [
    "# Guardamos el DataFrame limpio como nuevo archivo CSV\n",
    "df.to_csv(\"D:/SoyHenry/Proyecto integrador/data/sales_cleaned.csv\", index=False)"
   ]
  }
 ],
 "metadata": {
  "kernelspec": {
   "display_name": "base",
   "language": "python",
   "name": "python3"
  },
  "language_info": {
   "codemirror_mode": {
    "name": "ipython",
    "version": 3
   },
   "file_extension": ".py",
   "mimetype": "text/x-python",
   "name": "python",
   "nbconvert_exporter": "python",
   "pygments_lexer": "ipython3",
   "version": "3.12.7"
  }
 },
 "nbformat": 4,
 "nbformat_minor": 5
}
